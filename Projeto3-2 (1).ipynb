{
 "cells": [
  {
   "cell_type": "markdown",
   "metadata": {},
   "source": [
    "## Emanuelle Moço e Giovana Lemes:\n",
    "\n",
    "Regressão\n",
    "Pretendemos analisar se a altura de um jogador de basquete influencia na quantidade de pontos que ele faz."
   ]
  },
  {
   "cell_type": "code",
   "execution_count": 1,
   "metadata": {
    "collapsed": true
   },
   "outputs": [],
   "source": [
    "%matplotlib inline\n",
    "import pandas as pd\n",
    "import matplotlib.pyplot as plt\n",
    "import numpy as np\n",
    "import os\n",
    "import cmath\n",
    "plt.style.use('ggplot')"
   ]
  },
  {
   "cell_type": "code",
   "execution_count": 2,
   "metadata": {
    "collapsed": true
   },
   "outputs": [],
   "source": [
    "! explorer . "
   ]
  },
  {
   "cell_type": "code",
   "execution_count": 3,
   "metadata": {},
   "outputs": [
    {
     "name": "stdout",
     "output_type": "stream",
     "text": [
      "Esperamos trabalhar no diretório\n",
      "C:\\Users\\Emanuelle\\Documents\\Ciência dos Dados\\Projeto 3\n"
     ]
    }
   ],
   "source": [
    "print('Esperamos trabalhar no diretório')\n",
    "print(os.getcwd())"
   ]
  },
  {
   "cell_type": "code",
   "execution_count": 4,
   "metadata": {
    "collapsed": true,
    "scrolled": true
   },
   "outputs": [],
   "source": [
    "#Se usar o arquivo descompactado\n",
    "dados1 = pd.read_table('Players.csv', encoding=\"latin1\",sep=',')\n",
    "dados2 = pd.read_table('Seasons_Stats.csv', encoding=\"latin1\",sep=',')\n",
    "    "
   ]
  },
  {
   "cell_type": "code",
   "execution_count": 5,
   "metadata": {
    "collapsed": true
   },
   "outputs": [],
   "source": [
    "tabela_altura = dados1.loc [:,[\"Player\", \"height\"]]  "
   ]
  },
  {
   "cell_type": "code",
   "execution_count": 6,
   "metadata": {},
   "outputs": [
    {
     "name": "stdout",
     "output_type": "stream",
     "text": [
      "F: 123\n",
      "C: 4759\n",
      "G: 139\n",
      "G-F: 79\n",
      "F-C: 81\n",
      "F-G: 60\n",
      "PG: 4648\n",
      "PF: 4966\n",
      "SF: 4699\n",
      "SG: 4811\n"
     ]
    }
   ],
   "source": [
    "#Qual posição tem mais informações? (vamos analisar a que tiver mais informações)\n",
    "print (\"F: {0}\".format(len(dados2[dados2.Pos == \"F\"])))\n",
    "print (\"C: {0}\".format(len(dados2[dados2.Pos == \"C\"])))\n",
    "print (\"G: {0}\".format(len(dados2[dados2.Pos == \"G\"])))\n",
    "print (\"G-F: {0}\".format(len(dados2[dados2.Pos == \"G-F\"])))\n",
    "print (\"F-C: {0}\".format(len(dados2[dados2.Pos == \"F-C\"])))\n",
    "print (\"F-G: {0}\".format(len(dados2[dados2.Pos == \"F-G\"])))\n",
    "print (\"PG: {0}\".format(len(dados2[dados2.Pos == \"PG\"])))\n",
    "print (\"PF: {0}\".format(len(dados2[dados2.Pos == \"PF\"])))\n",
    "print (\"SF: {0}\".format(len(dados2[dados2.Pos == \"SF\"])))\n",
    "print (\"SG: {0}\".format(len(dados2[dados2.Pos == \"SG\"])))"
   ]
  },
  {
   "cell_type": "code",
   "execution_count": 7,
   "metadata": {},
   "outputs": [
    {
     "data": {
      "text/html": [
       "<div>\n",
       "<table border=\"1\" class=\"dataframe\">\n",
       "  <thead>\n",
       "    <tr style=\"text-align: right;\">\n",
       "      <th></th>\n",
       "      <th>Unnamed: 0</th>\n",
       "      <th>Player</th>\n",
       "      <th>height</th>\n",
       "      <th>weight</th>\n",
       "      <th>collage</th>\n",
       "      <th>born</th>\n",
       "      <th>birth_city</th>\n",
       "      <th>birth_state</th>\n",
       "    </tr>\n",
       "  </thead>\n",
       "  <tbody>\n",
       "    <tr>\n",
       "      <th>0</th>\n",
       "      <td>0</td>\n",
       "      <td>Curly Armstrong</td>\n",
       "      <td>180.0</td>\n",
       "      <td>77.0</td>\n",
       "      <td>Indiana University</td>\n",
       "      <td>1918.0</td>\n",
       "      <td>NaN</td>\n",
       "      <td>NaN</td>\n",
       "    </tr>\n",
       "    <tr>\n",
       "      <th>1</th>\n",
       "      <td>1</td>\n",
       "      <td>Cliff Barker</td>\n",
       "      <td>188.0</td>\n",
       "      <td>83.0</td>\n",
       "      <td>University of Kentucky</td>\n",
       "      <td>1921.0</td>\n",
       "      <td>Yorktown</td>\n",
       "      <td>Indiana</td>\n",
       "    </tr>\n",
       "    <tr>\n",
       "      <th>2</th>\n",
       "      <td>2</td>\n",
       "      <td>Leo Barnhorst</td>\n",
       "      <td>193.0</td>\n",
       "      <td>86.0</td>\n",
       "      <td>University of Notre Dame</td>\n",
       "      <td>1924.0</td>\n",
       "      <td>NaN</td>\n",
       "      <td>NaN</td>\n",
       "    </tr>\n",
       "    <tr>\n",
       "      <th>3</th>\n",
       "      <td>3</td>\n",
       "      <td>Ed Bartels</td>\n",
       "      <td>196.0</td>\n",
       "      <td>88.0</td>\n",
       "      <td>North Carolina State University</td>\n",
       "      <td>1925.0</td>\n",
       "      <td>NaN</td>\n",
       "      <td>NaN</td>\n",
       "    </tr>\n",
       "    <tr>\n",
       "      <th>4</th>\n",
       "      <td>4</td>\n",
       "      <td>Ralph Beard</td>\n",
       "      <td>178.0</td>\n",
       "      <td>79.0</td>\n",
       "      <td>University of Kentucky</td>\n",
       "      <td>1927.0</td>\n",
       "      <td>Hardinsburg</td>\n",
       "      <td>Kentucky</td>\n",
       "    </tr>\n",
       "  </tbody>\n",
       "</table>\n",
       "</div>"
      ],
      "text/plain": [
       "   Unnamed: 0           Player  height  weight  \\\n",
       "0           0  Curly Armstrong   180.0    77.0   \n",
       "1           1     Cliff Barker   188.0    83.0   \n",
       "2           2    Leo Barnhorst   193.0    86.0   \n",
       "3           3       Ed Bartels   196.0    88.0   \n",
       "4           4      Ralph Beard   178.0    79.0   \n",
       "\n",
       "                           collage    born   birth_city birth_state  \n",
       "0               Indiana University  1918.0          NaN         NaN  \n",
       "1           University of Kentucky  1921.0     Yorktown     Indiana  \n",
       "2         University of Notre Dame  1924.0          NaN         NaN  \n",
       "3  North Carolina State University  1925.0          NaN         NaN  \n",
       "4           University of Kentucky  1927.0  Hardinsburg    Kentucky  "
      ]
     },
     "execution_count": 7,
     "metadata": {},
     "output_type": "execute_result"
    }
   ],
   "source": [
    "dados1.head()"
   ]
  },
  {
   "cell_type": "code",
   "execution_count": 8,
   "metadata": {
    "collapsed": true
   },
   "outputs": [],
   "source": [
    "dados1 = dados1.loc[pd.notnull(dados1.height),:]"
   ]
  },
  {
   "cell_type": "code",
   "execution_count": 9,
   "metadata": {},
   "outputs": [
    {
     "data": {
      "text/html": [
       "<div>\n",
       "<table border=\"1\" class=\"dataframe\">\n",
       "  <thead>\n",
       "    <tr style=\"text-align: right;\">\n",
       "      <th></th>\n",
       "      <th>Unnamed: 0</th>\n",
       "      <th>Player</th>\n",
       "      <th>height</th>\n",
       "      <th>weight</th>\n",
       "      <th>collage</th>\n",
       "      <th>born</th>\n",
       "      <th>birth_city</th>\n",
       "      <th>birth_state</th>\n",
       "    </tr>\n",
       "  </thead>\n",
       "  <tbody>\n",
       "    <tr>\n",
       "      <th>0</th>\n",
       "      <td>0</td>\n",
       "      <td>Curly Armstrong</td>\n",
       "      <td>180.0</td>\n",
       "      <td>77.0</td>\n",
       "      <td>Indiana University</td>\n",
       "      <td>1918.0</td>\n",
       "      <td>NaN</td>\n",
       "      <td>NaN</td>\n",
       "    </tr>\n",
       "    <tr>\n",
       "      <th>1</th>\n",
       "      <td>1</td>\n",
       "      <td>Cliff Barker</td>\n",
       "      <td>188.0</td>\n",
       "      <td>83.0</td>\n",
       "      <td>University of Kentucky</td>\n",
       "      <td>1921.0</td>\n",
       "      <td>Yorktown</td>\n",
       "      <td>Indiana</td>\n",
       "    </tr>\n",
       "    <tr>\n",
       "      <th>2</th>\n",
       "      <td>2</td>\n",
       "      <td>Leo Barnhorst</td>\n",
       "      <td>193.0</td>\n",
       "      <td>86.0</td>\n",
       "      <td>University of Notre Dame</td>\n",
       "      <td>1924.0</td>\n",
       "      <td>NaN</td>\n",
       "      <td>NaN</td>\n",
       "    </tr>\n",
       "    <tr>\n",
       "      <th>3</th>\n",
       "      <td>3</td>\n",
       "      <td>Ed Bartels</td>\n",
       "      <td>196.0</td>\n",
       "      <td>88.0</td>\n",
       "      <td>North Carolina State University</td>\n",
       "      <td>1925.0</td>\n",
       "      <td>NaN</td>\n",
       "      <td>NaN</td>\n",
       "    </tr>\n",
       "    <tr>\n",
       "      <th>4</th>\n",
       "      <td>4</td>\n",
       "      <td>Ralph Beard</td>\n",
       "      <td>178.0</td>\n",
       "      <td>79.0</td>\n",
       "      <td>University of Kentucky</td>\n",
       "      <td>1927.0</td>\n",
       "      <td>Hardinsburg</td>\n",
       "      <td>Kentucky</td>\n",
       "    </tr>\n",
       "  </tbody>\n",
       "</table>\n",
       "</div>"
      ],
      "text/plain": [
       "   Unnamed: 0           Player  height  weight  \\\n",
       "0           0  Curly Armstrong   180.0    77.0   \n",
       "1           1     Cliff Barker   188.0    83.0   \n",
       "2           2    Leo Barnhorst   193.0    86.0   \n",
       "3           3       Ed Bartels   196.0    88.0   \n",
       "4           4      Ralph Beard   178.0    79.0   \n",
       "\n",
       "                           collage    born   birth_city birth_state  \n",
       "0               Indiana University  1918.0          NaN         NaN  \n",
       "1           University of Kentucky  1921.0     Yorktown     Indiana  \n",
       "2         University of Notre Dame  1924.0          NaN         NaN  \n",
       "3  North Carolina State University  1925.0          NaN         NaN  \n",
       "4           University of Kentucky  1927.0  Hardinsburg    Kentucky  "
      ]
     },
     "execution_count": 9,
     "metadata": {},
     "output_type": "execute_result"
    }
   ],
   "source": [
    "dados1.head()"
   ]
  },
  {
   "cell_type": "code",
   "execution_count": 54,
   "metadata": {},
   "outputs": [
    {
     "data": {
      "text/plain": [
       "Index(['Unnamed: 0', 'Year', 'Player', 'Pos', 'Age', 'Tm', 'G', 'GS', 'MP',\n",
       "       'PER', 'TS%', '3PAr', 'FTr', 'ORB%', 'DRB%', 'TRB%', 'AST%', 'STL%',\n",
       "       'BLK%', 'TOV%', 'USG%', 'blanl', 'OWS', 'DWS', 'WS', 'WS/48', 'blank2',\n",
       "       'OBPM', 'DBPM', 'BPM', 'VORP', 'FG', 'FGA', 'FG%', '3P', '3PA', '3P%',\n",
       "       '2P', '2PA', '2P%', 'eFG%', 'FT', 'FTA', 'FT%', 'ORB', 'DRB', 'TRB',\n",
       "       'AST', 'STL', 'BLK', 'TOV', 'PF', 'PTS'],\n",
       "      dtype='object')"
      ]
     },
     "execution_count": 54,
     "metadata": {},
     "output_type": "execute_result"
    }
   ],
   "source": [
    "dados2.columns"
   ]
  },
  {
   "cell_type": "code",
   "execution_count": 11,
   "metadata": {},
   "outputs": [
    {
     "data": {
      "text/html": [
       "<div>\n",
       "<table border=\"1\" class=\"dataframe\">\n",
       "  <thead>\n",
       "    <tr style=\"text-align: right;\">\n",
       "      <th></th>\n",
       "      <th>Unnamed: 0</th>\n",
       "      <th>Year</th>\n",
       "      <th>Player</th>\n",
       "      <th>Pos</th>\n",
       "      <th>Age</th>\n",
       "      <th>Tm</th>\n",
       "      <th>G</th>\n",
       "      <th>GS</th>\n",
       "      <th>MP</th>\n",
       "      <th>PER</th>\n",
       "      <th>...</th>\n",
       "      <th>FT%</th>\n",
       "      <th>ORB</th>\n",
       "      <th>DRB</th>\n",
       "      <th>TRB</th>\n",
       "      <th>AST</th>\n",
       "      <th>STL</th>\n",
       "      <th>BLK</th>\n",
       "      <th>TOV</th>\n",
       "      <th>PF</th>\n",
       "      <th>PTS</th>\n",
       "    </tr>\n",
       "  </thead>\n",
       "  <tbody>\n",
       "    <tr>\n",
       "      <th>17</th>\n",
       "      <td>17</td>\n",
       "      <td>1950.0</td>\n",
       "      <td>Bob Brannum</td>\n",
       "      <td>PF</td>\n",
       "      <td>24.0</td>\n",
       "      <td>SHE</td>\n",
       "      <td>59.0</td>\n",
       "      <td>NaN</td>\n",
       "      <td>NaN</td>\n",
       "      <td>NaN</td>\n",
       "      <td>...</td>\n",
       "      <td>0.690</td>\n",
       "      <td>NaN</td>\n",
       "      <td>NaN</td>\n",
       "      <td>NaN</td>\n",
       "      <td>205.0</td>\n",
       "      <td>NaN</td>\n",
       "      <td>NaN</td>\n",
       "      <td>NaN</td>\n",
       "      <td>279.0</td>\n",
       "      <td>713.0</td>\n",
       "    </tr>\n",
       "    <tr>\n",
       "      <th>23</th>\n",
       "      <td>23</td>\n",
       "      <td>1950.0</td>\n",
       "      <td>Walt Budko</td>\n",
       "      <td>PF</td>\n",
       "      <td>24.0</td>\n",
       "      <td>BLB</td>\n",
       "      <td>66.0</td>\n",
       "      <td>NaN</td>\n",
       "      <td>NaN</td>\n",
       "      <td>NaN</td>\n",
       "      <td>...</td>\n",
       "      <td>0.757</td>\n",
       "      <td>NaN</td>\n",
       "      <td>NaN</td>\n",
       "      <td>NaN</td>\n",
       "      <td>146.0</td>\n",
       "      <td>NaN</td>\n",
       "      <td>NaN</td>\n",
       "      <td>NaN</td>\n",
       "      <td>259.0</td>\n",
       "      <td>595.0</td>\n",
       "    </tr>\n",
       "    <tr>\n",
       "      <th>41</th>\n",
       "      <td>41</td>\n",
       "      <td>1950.0</td>\n",
       "      <td>Jack Coleman</td>\n",
       "      <td>PF</td>\n",
       "      <td>25.0</td>\n",
       "      <td>ROC</td>\n",
       "      <td>68.0</td>\n",
       "      <td>NaN</td>\n",
       "      <td>NaN</td>\n",
       "      <td>NaN</td>\n",
       "      <td>...</td>\n",
       "      <td>0.744</td>\n",
       "      <td>NaN</td>\n",
       "      <td>NaN</td>\n",
       "      <td>NaN</td>\n",
       "      <td>153.0</td>\n",
       "      <td>NaN</td>\n",
       "      <td>NaN</td>\n",
       "      <td>NaN</td>\n",
       "      <td>223.0</td>\n",
       "      <td>590.0</td>\n",
       "    </tr>\n",
       "    <tr>\n",
       "      <th>45</th>\n",
       "      <td>45</td>\n",
       "      <td>1950.0</td>\n",
       "      <td>Dillard Crocker</td>\n",
       "      <td>PF</td>\n",
       "      <td>25.0</td>\n",
       "      <td>DNN</td>\n",
       "      <td>53.0</td>\n",
       "      <td>NaN</td>\n",
       "      <td>NaN</td>\n",
       "      <td>NaN</td>\n",
       "      <td>...</td>\n",
       "      <td>0.735</td>\n",
       "      <td>NaN</td>\n",
       "      <td>NaN</td>\n",
       "      <td>NaN</td>\n",
       "      <td>85.0</td>\n",
       "      <td>NaN</td>\n",
       "      <td>NaN</td>\n",
       "      <td>NaN</td>\n",
       "      <td>223.0</td>\n",
       "      <td>723.0</td>\n",
       "    </tr>\n",
       "    <tr>\n",
       "      <th>68</th>\n",
       "      <td>68</td>\n",
       "      <td>1950.0</td>\n",
       "      <td>Joe Fulks*</td>\n",
       "      <td>PF</td>\n",
       "      <td>28.0</td>\n",
       "      <td>PHW</td>\n",
       "      <td>68.0</td>\n",
       "      <td>NaN</td>\n",
       "      <td>NaN</td>\n",
       "      <td>NaN</td>\n",
       "      <td>...</td>\n",
       "      <td>0.696</td>\n",
       "      <td>NaN</td>\n",
       "      <td>NaN</td>\n",
       "      <td>NaN</td>\n",
       "      <td>56.0</td>\n",
       "      <td>NaN</td>\n",
       "      <td>NaN</td>\n",
       "      <td>NaN</td>\n",
       "      <td>240.0</td>\n",
       "      <td>965.0</td>\n",
       "    </tr>\n",
       "  </tbody>\n",
       "</table>\n",
       "<p>5 rows × 53 columns</p>\n",
       "</div>"
      ],
      "text/plain": [
       "    Unnamed: 0    Year           Player Pos   Age   Tm     G  GS  MP  PER  \\\n",
       "17          17  1950.0      Bob Brannum  PF  24.0  SHE  59.0 NaN NaN  NaN   \n",
       "23          23  1950.0       Walt Budko  PF  24.0  BLB  66.0 NaN NaN  NaN   \n",
       "41          41  1950.0     Jack Coleman  PF  25.0  ROC  68.0 NaN NaN  NaN   \n",
       "45          45  1950.0  Dillard Crocker  PF  25.0  DNN  53.0 NaN NaN  NaN   \n",
       "68          68  1950.0       Joe Fulks*  PF  28.0  PHW  68.0 NaN NaN  NaN   \n",
       "\n",
       "    ...      FT%  ORB  DRB  TRB    AST  STL  BLK  TOV     PF    PTS  \n",
       "17  ...    0.690  NaN  NaN  NaN  205.0  NaN  NaN  NaN  279.0  713.0  \n",
       "23  ...    0.757  NaN  NaN  NaN  146.0  NaN  NaN  NaN  259.0  595.0  \n",
       "41  ...    0.744  NaN  NaN  NaN  153.0  NaN  NaN  NaN  223.0  590.0  \n",
       "45  ...    0.735  NaN  NaN  NaN   85.0  NaN  NaN  NaN  223.0  723.0  \n",
       "68  ...    0.696  NaN  NaN  NaN   56.0  NaN  NaN  NaN  240.0  965.0  \n",
       "\n",
       "[5 rows x 53 columns]"
      ]
     },
     "execution_count": 11,
     "metadata": {},
     "output_type": "execute_result"
    }
   ],
   "source": [
    "#tabela com dados dos pivos \"PF\"\n",
    "tabela_PF = dados2[dados2.Pos == \"PF\"]\n",
    "tabela_PF.head()"
   ]
  },
  {
   "cell_type": "code",
   "execution_count": 12,
   "metadata": {},
   "outputs": [
    {
     "data": {
      "text/html": [
       "<div>\n",
       "<table border=\"1\" class=\"dataframe\">\n",
       "  <thead>\n",
       "    <tr style=\"text-align: right;\">\n",
       "      <th></th>\n",
       "      <th>Unnamed: 0</th>\n",
       "      <th>Player</th>\n",
       "      <th>height</th>\n",
       "      <th>weight</th>\n",
       "      <th>collage</th>\n",
       "      <th>born</th>\n",
       "      <th>birth_city</th>\n",
       "      <th>birth_state</th>\n",
       "    </tr>\n",
       "  </thead>\n",
       "  <tbody>\n",
       "    <tr>\n",
       "      <th>0</th>\n",
       "      <td>0</td>\n",
       "      <td>Curly Armstrong</td>\n",
       "      <td>180.0</td>\n",
       "      <td>77.0</td>\n",
       "      <td>Indiana University</td>\n",
       "      <td>1918.0</td>\n",
       "      <td>NaN</td>\n",
       "      <td>NaN</td>\n",
       "    </tr>\n",
       "    <tr>\n",
       "      <th>1</th>\n",
       "      <td>1</td>\n",
       "      <td>Cliff Barker</td>\n",
       "      <td>188.0</td>\n",
       "      <td>83.0</td>\n",
       "      <td>University of Kentucky</td>\n",
       "      <td>1921.0</td>\n",
       "      <td>Yorktown</td>\n",
       "      <td>Indiana</td>\n",
       "    </tr>\n",
       "    <tr>\n",
       "      <th>2</th>\n",
       "      <td>2</td>\n",
       "      <td>Leo Barnhorst</td>\n",
       "      <td>193.0</td>\n",
       "      <td>86.0</td>\n",
       "      <td>University of Notre Dame</td>\n",
       "      <td>1924.0</td>\n",
       "      <td>NaN</td>\n",
       "      <td>NaN</td>\n",
       "    </tr>\n",
       "    <tr>\n",
       "      <th>3</th>\n",
       "      <td>3</td>\n",
       "      <td>Ed Bartels</td>\n",
       "      <td>196.0</td>\n",
       "      <td>88.0</td>\n",
       "      <td>North Carolina State University</td>\n",
       "      <td>1925.0</td>\n",
       "      <td>NaN</td>\n",
       "      <td>NaN</td>\n",
       "    </tr>\n",
       "    <tr>\n",
       "      <th>4</th>\n",
       "      <td>4</td>\n",
       "      <td>Ralph Beard</td>\n",
       "      <td>178.0</td>\n",
       "      <td>79.0</td>\n",
       "      <td>University of Kentucky</td>\n",
       "      <td>1927.0</td>\n",
       "      <td>Hardinsburg</td>\n",
       "      <td>Kentucky</td>\n",
       "    </tr>\n",
       "  </tbody>\n",
       "</table>\n",
       "</div>"
      ],
      "text/plain": [
       "   Unnamed: 0           Player  height  weight  \\\n",
       "0           0  Curly Armstrong   180.0    77.0   \n",
       "1           1     Cliff Barker   188.0    83.0   \n",
       "2           2    Leo Barnhorst   193.0    86.0   \n",
       "3           3       Ed Bartels   196.0    88.0   \n",
       "4           4      Ralph Beard   178.0    79.0   \n",
       "\n",
       "                           collage    born   birth_city birth_state  \n",
       "0               Indiana University  1918.0          NaN         NaN  \n",
       "1           University of Kentucky  1921.0     Yorktown     Indiana  \n",
       "2         University of Notre Dame  1924.0          NaN         NaN  \n",
       "3  North Carolina State University  1925.0          NaN         NaN  \n",
       "4           University of Kentucky  1927.0  Hardinsburg    Kentucky  "
      ]
     },
     "execution_count": 12,
     "metadata": {},
     "output_type": "execute_result"
    }
   ],
   "source": [
    "#apagar os dados nulos da altura\n",
    "dados1 = dados1.loc[pd.notnull(dados1.height),:]\n",
    "dados1.head()"
   ]
  },
  {
   "cell_type": "code",
   "execution_count": 13,
   "metadata": {},
   "outputs": [
    {
     "data": {
      "text/html": [
       "<div>\n",
       "<table border=\"1\" class=\"dataframe\">\n",
       "  <thead>\n",
       "    <tr style=\"text-align: right;\">\n",
       "      <th></th>\n",
       "      <th>Player</th>\n",
       "      <th>G</th>\n",
       "      <th>FT%</th>\n",
       "      <th>AST</th>\n",
       "      <th>PTS</th>\n",
       "      <th>BLK</th>\n",
       "    </tr>\n",
       "  </thead>\n",
       "  <tbody>\n",
       "    <tr>\n",
       "      <th>17</th>\n",
       "      <td>Bob Brannum</td>\n",
       "      <td>59.0</td>\n",
       "      <td>0.690</td>\n",
       "      <td>205.0</td>\n",
       "      <td>713.0</td>\n",
       "      <td>NaN</td>\n",
       "    </tr>\n",
       "    <tr>\n",
       "      <th>23</th>\n",
       "      <td>Walt Budko</td>\n",
       "      <td>66.0</td>\n",
       "      <td>0.757</td>\n",
       "      <td>146.0</td>\n",
       "      <td>595.0</td>\n",
       "      <td>NaN</td>\n",
       "    </tr>\n",
       "    <tr>\n",
       "      <th>41</th>\n",
       "      <td>Jack Coleman</td>\n",
       "      <td>68.0</td>\n",
       "      <td>0.744</td>\n",
       "      <td>153.0</td>\n",
       "      <td>590.0</td>\n",
       "      <td>NaN</td>\n",
       "    </tr>\n",
       "    <tr>\n",
       "      <th>45</th>\n",
       "      <td>Dillard Crocker</td>\n",
       "      <td>53.0</td>\n",
       "      <td>0.735</td>\n",
       "      <td>85.0</td>\n",
       "      <td>723.0</td>\n",
       "      <td>NaN</td>\n",
       "    </tr>\n",
       "    <tr>\n",
       "      <th>68</th>\n",
       "      <td>Joe Fulks*</td>\n",
       "      <td>68.0</td>\n",
       "      <td>0.696</td>\n",
       "      <td>56.0</td>\n",
       "      <td>965.0</td>\n",
       "      <td>NaN</td>\n",
       "    </tr>\n",
       "  </tbody>\n",
       "</table>\n",
       "</div>"
      ],
      "text/plain": [
       "             Player     G    FT%    AST    PTS  BLK\n",
       "17      Bob Brannum  59.0  0.690  205.0  713.0  NaN\n",
       "23       Walt Budko  66.0  0.757  146.0  595.0  NaN\n",
       "41     Jack Coleman  68.0  0.744  153.0  590.0  NaN\n",
       "45  Dillard Crocker  53.0  0.735   85.0  723.0  NaN\n",
       "68       Joe Fulks*  68.0  0.696   56.0  965.0  NaN"
      ]
     },
     "execution_count": 13,
     "metadata": {},
     "output_type": "execute_result"
    }
   ],
   "source": [
    "#modificando a tabela_PF para ter apenas os dados que são uteis para nós\n",
    "#G = games\n",
    "#FT% = porcentagem de acertos (acertos/quanto tentou)\n",
    "#AST = assistências \n",
    "#PTS = pontos \n",
    "tabela_PF = tabela_PF.loc[:,[\"Player\", \"G\", \"FT%\",  \"AST\", \"PTS\" , \"BLK\"]]  \n",
    "tabela_PF.head()"
   ]
  },
  {
   "cell_type": "code",
   "execution_count": null,
   "metadata": {
    "collapsed": true
   },
   "outputs": [],
   "source": []
  },
  {
   "cell_type": "code",
   "execution_count": 14,
   "metadata": {},
   "outputs": [
    {
     "data": {
      "text/plain": [
       "17    12.084746\n",
       "23     9.015152\n",
       "41     8.676471\n",
       "45    13.641509\n",
       "68    14.191176\n",
       "dtype: float64"
      ]
     },
     "execution_count": 14,
     "metadata": {},
     "output_type": "execute_result"
    }
   ],
   "source": [
    "#criar uma coluna que vai ser os pontos/jogos\n",
    "testeA = tabela_PF.loc[(tabela_PF.G!=0), 'M_PONTOS'] = tabela_PF.PTS / tabela_PF.G\n",
    "testeA.head()"
   ]
  },
  {
   "cell_type": "code",
   "execution_count": 15,
   "metadata": {},
   "outputs": [
    {
     "data": {
      "text/plain": [
       "17    12.084746\n",
       "23     9.015152\n",
       "41     8.676471\n",
       "45    13.641509\n",
       "68    14.191176\n",
       "dtype: float64"
      ]
     },
     "execution_count": 15,
     "metadata": {},
     "output_type": "execute_result"
    }
   ],
   "source": [
    "testeA.head()"
   ]
  },
  {
   "cell_type": "code",
   "execution_count": 16,
   "metadata": {},
   "outputs": [
    {
     "data": {
      "text/plain": [
       "8.093923934856019"
      ]
     },
     "execution_count": 16,
     "metadata": {},
     "output_type": "execute_result"
    }
   ],
   "source": [
    "#media da media de pontos por jogo\n",
    "testeA.mean()"
   ]
  },
  {
   "cell_type": "code",
   "execution_count": 17,
   "metadata": {},
   "outputs": [
    {
     "data": {
      "text/plain": [
       "198.70492221372098"
      ]
     },
     "execution_count": 17,
     "metadata": {},
     "output_type": "execute_result"
    }
   ],
   "source": [
    "#media das altura\n",
    "tabela_altura.height.mean()"
   ]
  },
  {
   "cell_type": "code",
   "execution_count": 18,
   "metadata": {},
   "outputs": [
    {
     "data": {
      "text/html": [
       "<div>\n",
       "<table border=\"1\" class=\"dataframe\">\n",
       "  <thead>\n",
       "    <tr style=\"text-align: right;\">\n",
       "      <th></th>\n",
       "      <th>G</th>\n",
       "      <th>FT%</th>\n",
       "      <th>AST</th>\n",
       "      <th>PTS</th>\n",
       "      <th>BLK</th>\n",
       "      <th>M_PONTOS</th>\n",
       "    </tr>\n",
       "  </thead>\n",
       "  <tbody>\n",
       "    <tr>\n",
       "      <th>G</th>\n",
       "      <td>693.604935</td>\n",
       "      <td>0.807973</td>\n",
       "      <td>1350.382206</td>\n",
       "      <td>9179.693811</td>\n",
       "      <td>586.997507</td>\n",
       "      <td>85.558076</td>\n",
       "    </tr>\n",
       "    <tr>\n",
       "      <th>FT%</th>\n",
       "      <td>0.807973</td>\n",
       "      <td>0.019387</td>\n",
       "      <td>2.466136</td>\n",
       "      <td>19.197398</td>\n",
       "      <td>0.569241</td>\n",
       "      <td>0.256641</td>\n",
       "    </tr>\n",
       "    <tr>\n",
       "      <th>AST</th>\n",
       "      <td>1350.382206</td>\n",
       "      <td>2.466136</td>\n",
       "      <td>6017.618989</td>\n",
       "      <td>30870.439742</td>\n",
       "      <td>1602.925762</td>\n",
       "      <td>345.320612</td>\n",
       "    </tr>\n",
       "    <tr>\n",
       "      <th>PTS</th>\n",
       "      <td>9179.693811</td>\n",
       "      <td>19.197398</td>\n",
       "      <td>30870.439742</td>\n",
       "      <td>226304.408328</td>\n",
       "      <td>11571.864315</td>\n",
       "      <td>2580.752122</td>\n",
       "    </tr>\n",
       "    <tr>\n",
       "      <th>BLK</th>\n",
       "      <td>586.997507</td>\n",
       "      <td>0.569241</td>\n",
       "      <td>1602.925762</td>\n",
       "      <td>11571.864315</td>\n",
       "      <td>1332.640630</td>\n",
       "      <td>125.690100</td>\n",
       "    </tr>\n",
       "    <tr>\n",
       "      <th>M_PONTOS</th>\n",
       "      <td>85.558076</td>\n",
       "      <td>0.256641</td>\n",
       "      <td>345.320612</td>\n",
       "      <td>2580.752122</td>\n",
       "      <td>125.690100</td>\n",
       "      <td>34.253197</td>\n",
       "    </tr>\n",
       "  </tbody>\n",
       "</table>\n",
       "</div>"
      ],
      "text/plain": [
       "                    G        FT%           AST            PTS           BLK  \\\n",
       "G          693.604935   0.807973   1350.382206    9179.693811    586.997507   \n",
       "FT%          0.807973   0.019387      2.466136      19.197398      0.569241   \n",
       "AST       1350.382206   2.466136   6017.618989   30870.439742   1602.925762   \n",
       "PTS       9179.693811  19.197398  30870.439742  226304.408328  11571.864315   \n",
       "BLK        586.997507   0.569241   1602.925762   11571.864315   1332.640630   \n",
       "M_PONTOS    85.558076   0.256641    345.320612    2580.752122    125.690100   \n",
       "\n",
       "             M_PONTOS  \n",
       "G           85.558076  \n",
       "FT%          0.256641  \n",
       "AST        345.320612  \n",
       "PTS       2580.752122  \n",
       "BLK        125.690100  \n",
       "M_PONTOS    34.253197  "
      ]
     },
     "execution_count": 18,
     "metadata": {},
     "output_type": "execute_result"
    }
   ],
   "source": [
    "#covariancia\n",
    "tabela_PF.cov()"
   ]
  },
  {
   "cell_type": "code",
   "execution_count": 38,
   "metadata": {},
   "outputs": [
    {
     "data": {
      "text/html": [
       "<div>\n",
       "<table border=\"1\" class=\"dataframe\">\n",
       "  <thead>\n",
       "    <tr style=\"text-align: right;\">\n",
       "      <th></th>\n",
       "      <th>Unnamed: 0</th>\n",
       "      <th>Player</th>\n",
       "      <th>height</th>\n",
       "      <th>weight</th>\n",
       "      <th>collage</th>\n",
       "      <th>born</th>\n",
       "      <th>birth_city</th>\n",
       "      <th>birth_state</th>\n",
       "    </tr>\n",
       "  </thead>\n",
       "  <tbody>\n",
       "    <tr>\n",
       "      <th>0</th>\n",
       "      <td>0</td>\n",
       "      <td>Curly Armstrong</td>\n",
       "      <td>180.0</td>\n",
       "      <td>77.0</td>\n",
       "      <td>Indiana University</td>\n",
       "      <td>1918.0</td>\n",
       "      <td>NaN</td>\n",
       "      <td>NaN</td>\n",
       "    </tr>\n",
       "    <tr>\n",
       "      <th>1</th>\n",
       "      <td>1</td>\n",
       "      <td>Cliff Barker</td>\n",
       "      <td>188.0</td>\n",
       "      <td>83.0</td>\n",
       "      <td>University of Kentucky</td>\n",
       "      <td>1921.0</td>\n",
       "      <td>Yorktown</td>\n",
       "      <td>Indiana</td>\n",
       "    </tr>\n",
       "    <tr>\n",
       "      <th>2</th>\n",
       "      <td>2</td>\n",
       "      <td>Leo Barnhorst</td>\n",
       "      <td>193.0</td>\n",
       "      <td>86.0</td>\n",
       "      <td>University of Notre Dame</td>\n",
       "      <td>1924.0</td>\n",
       "      <td>NaN</td>\n",
       "      <td>NaN</td>\n",
       "    </tr>\n",
       "    <tr>\n",
       "      <th>3</th>\n",
       "      <td>3</td>\n",
       "      <td>Ed Bartels</td>\n",
       "      <td>196.0</td>\n",
       "      <td>88.0</td>\n",
       "      <td>North Carolina State University</td>\n",
       "      <td>1925.0</td>\n",
       "      <td>NaN</td>\n",
       "      <td>NaN</td>\n",
       "    </tr>\n",
       "    <tr>\n",
       "      <th>4</th>\n",
       "      <td>4</td>\n",
       "      <td>Ralph Beard</td>\n",
       "      <td>178.0</td>\n",
       "      <td>79.0</td>\n",
       "      <td>University of Kentucky</td>\n",
       "      <td>1927.0</td>\n",
       "      <td>Hardinsburg</td>\n",
       "      <td>Kentucky</td>\n",
       "    </tr>\n",
       "  </tbody>\n",
       "</table>\n",
       "</div>"
      ],
      "text/plain": [
       "   Unnamed: 0           Player  height  weight  \\\n",
       "0           0  Curly Armstrong   180.0    77.0   \n",
       "1           1     Cliff Barker   188.0    83.0   \n",
       "2           2    Leo Barnhorst   193.0    86.0   \n",
       "3           3       Ed Bartels   196.0    88.0   \n",
       "4           4      Ralph Beard   178.0    79.0   \n",
       "\n",
       "                           collage    born   birth_city birth_state  \n",
       "0               Indiana University  1918.0          NaN         NaN  \n",
       "1           University of Kentucky  1921.0     Yorktown     Indiana  \n",
       "2         University of Notre Dame  1924.0          NaN         NaN  \n",
       "3  North Carolina State University  1925.0          NaN         NaN  \n",
       "4           University of Kentucky  1927.0  Hardinsburg    Kentucky  "
      ]
     },
     "execution_count": 38,
     "metadata": {},
     "output_type": "execute_result"
    }
   ],
   "source": [
    "dados1.head()"
   ]
  },
  {
   "cell_type": "code",
   "execution_count": 39,
   "metadata": {
    "collapsed": true
   },
   "outputs": [],
   "source": [
    "df = tabela_PF.set_index('Player').join(dados1.set_index('Player'), how='inner', lsuffix='tabela_PF',rsuffix='dados1')\n",
    "#df = df[['M_PONTOS','height']].dropna()\n",
    "#df.plot.scatter('M_PONTOS','height')\n",
    "\n",
    "#tabela_PF.set_index('M_PONTOS').join(dados1.set_index('height'), lsuffix='_caller', rsuffix='_other')"
   ]
  },
  {
   "cell_type": "code",
   "execution_count": null,
   "metadata": {},
   "outputs": [],
   "source": []
  },
  {
   "cell_type": "code",
   "execution_count": 21,
   "metadata": {},
   "outputs": [
    {
     "data": {
      "text/plain": [
       "Eddie Johnson       33\n",
       "Mike Dunleavy       32\n",
       "Gerald Henderson    29\n",
       "Nazr Mohammed       28\n",
       "Kevin Willis        27\n",
       "George Johnson      26\n",
       "Joe Smith           26\n",
       "Andre Miller        25\n",
       "James Edwards       25\n",
       "Juwan Howard        25\n",
       "Theo Ratliff        24\n",
       "Reggie Williams     24\n",
       "Jim Jackson         24\n",
       "Tyrone Corbin       24\n",
       "Kevin Ollie         23\n",
       "Vince Carter        23\n",
       "Kevin Garnett       23\n",
       "Drew Gooden         23\n",
       "Charles Jones       23\n",
       "Jason Kidd          23\n",
       "Charles Smith       23\n",
       "Rod Strickland      23\n",
       "Chauncey Billups    23\n",
       "Kenny Anderson      22\n",
       "Sam Cassell         22\n",
       "Avery Johnson       22\n",
       "Tim Thomas          22\n",
       "Danny Schayes       22\n",
       "Herb Williams       22\n",
       "John Lucas          22\n",
       "                    ..\n",
       "Ken Boyd             1\n",
       "Desmond Ferguson     1\n",
       "Dave Deutsch         1\n",
       "Jack Cotton          1\n",
       "D.C. Wilcutt         1\n",
       "A.J. Hammons         1\n",
       "Byron Beck           1\n",
       "Gary Voce            1\n",
       "Eddie Phillips       1\n",
       "James Collins        1\n",
       "Voise Winters        1\n",
       "Garret Siler         1\n",
       "Chink Crossin        1\n",
       "Jabari Brown         1\n",
       "Kim Anderson         1\n",
       "Bob Wiesenhahn       1\n",
       "Jerome Dyson         1\n",
       "Jake Layman          1\n",
       "Herm Schaefer        1\n",
       "Dexter Cambridge     1\n",
       "Bernard Toone        1\n",
       "Kevin Burleson       1\n",
       "Steve Jones          1\n",
       "Norris Coleman       1\n",
       "Forrest McKenzie     1\n",
       "Pat Frink            1\n",
       "Bill Jones           1\n",
       "Marshall Rogers      1\n",
       "David Nwaba          1\n",
       "Forest Able          1\n",
       "Name: Player, dtype: int64"
      ]
     },
     "execution_count": 21,
     "metadata": {},
     "output_type": "execute_result"
    }
   ],
   "source": [
    "dados2.Player.value_counts()"
   ]
  },
  {
   "cell_type": "code",
   "execution_count": 22,
   "metadata": {},
   "outputs": [
    {
     "data": {
      "text/html": [
       "<div>\n",
       "<table border=\"1\" class=\"dataframe\">\n",
       "  <thead>\n",
       "    <tr style=\"text-align: right;\">\n",
       "      <th></th>\n",
       "      <th>G</th>\n",
       "      <th>FT%</th>\n",
       "      <th>AST</th>\n",
       "      <th>PTS</th>\n",
       "      <th>BLK</th>\n",
       "      <th>M_PONTOS</th>\n",
       "      <th>Unnamed: 0</th>\n",
       "      <th>height</th>\n",
       "      <th>weight</th>\n",
       "      <th>collage</th>\n",
       "      <th>born</th>\n",
       "      <th>birth_city</th>\n",
       "      <th>birth_state</th>\n",
       "    </tr>\n",
       "    <tr>\n",
       "      <th>Player</th>\n",
       "      <th></th>\n",
       "      <th></th>\n",
       "      <th></th>\n",
       "      <th></th>\n",
       "      <th></th>\n",
       "      <th></th>\n",
       "      <th></th>\n",
       "      <th></th>\n",
       "      <th></th>\n",
       "      <th></th>\n",
       "      <th></th>\n",
       "      <th></th>\n",
       "      <th></th>\n",
       "    </tr>\n",
       "  </thead>\n",
       "  <tbody>\n",
       "    <tr>\n",
       "      <th>A.C. Green</th>\n",
       "      <td>82.0</td>\n",
       "      <td>0.611</td>\n",
       "      <td>54.0</td>\n",
       "      <td>521.0</td>\n",
       "      <td>49.0</td>\n",
       "      <td>6.353659</td>\n",
       "      <td>1723</td>\n",
       "      <td>203.0</td>\n",
       "      <td>106.0</td>\n",
       "      <td>NaN</td>\n",
       "      <td>1960.0</td>\n",
       "      <td>NaN</td>\n",
       "      <td>NaN</td>\n",
       "    </tr>\n",
       "    <tr>\n",
       "      <th>A.C. Green</th>\n",
       "      <td>79.0</td>\n",
       "      <td>0.780</td>\n",
       "      <td>84.0</td>\n",
       "      <td>852.0</td>\n",
       "      <td>80.0</td>\n",
       "      <td>10.784810</td>\n",
       "      <td>1723</td>\n",
       "      <td>203.0</td>\n",
       "      <td>106.0</td>\n",
       "      <td>NaN</td>\n",
       "      <td>1960.0</td>\n",
       "      <td>NaN</td>\n",
       "      <td>NaN</td>\n",
       "    </tr>\n",
       "    <tr>\n",
       "      <th>A.C. Green</th>\n",
       "      <td>82.0</td>\n",
       "      <td>0.773</td>\n",
       "      <td>93.0</td>\n",
       "      <td>937.0</td>\n",
       "      <td>45.0</td>\n",
       "      <td>11.426829</td>\n",
       "      <td>1723</td>\n",
       "      <td>203.0</td>\n",
       "      <td>106.0</td>\n",
       "      <td>NaN</td>\n",
       "      <td>1960.0</td>\n",
       "      <td>NaN</td>\n",
       "      <td>NaN</td>\n",
       "    </tr>\n",
       "    <tr>\n",
       "      <th>A.C. Green</th>\n",
       "      <td>82.0</td>\n",
       "      <td>0.786</td>\n",
       "      <td>103.0</td>\n",
       "      <td>1088.0</td>\n",
       "      <td>55.0</td>\n",
       "      <td>13.268293</td>\n",
       "      <td>1723</td>\n",
       "      <td>203.0</td>\n",
       "      <td>106.0</td>\n",
       "      <td>NaN</td>\n",
       "      <td>1960.0</td>\n",
       "      <td>NaN</td>\n",
       "      <td>NaN</td>\n",
       "    </tr>\n",
       "    <tr>\n",
       "      <th>A.C. Green</th>\n",
       "      <td>82.0</td>\n",
       "      <td>0.751</td>\n",
       "      <td>90.0</td>\n",
       "      <td>1061.0</td>\n",
       "      <td>50.0</td>\n",
       "      <td>12.939024</td>\n",
       "      <td>1723</td>\n",
       "      <td>203.0</td>\n",
       "      <td>106.0</td>\n",
       "      <td>NaN</td>\n",
       "      <td>1960.0</td>\n",
       "      <td>NaN</td>\n",
       "      <td>NaN</td>\n",
       "    </tr>\n",
       "  </tbody>\n",
       "</table>\n",
       "</div>"
      ],
      "text/plain": [
       "               G    FT%    AST     PTS   BLK   M_PONTOS  Unnamed: 0  height  \\\n",
       "Player                                                                        \n",
       "A.C. Green  82.0  0.611   54.0   521.0  49.0   6.353659        1723   203.0   \n",
       "A.C. Green  79.0  0.780   84.0   852.0  80.0  10.784810        1723   203.0   \n",
       "A.C. Green  82.0  0.773   93.0   937.0  45.0  11.426829        1723   203.0   \n",
       "A.C. Green  82.0  0.786  103.0  1088.0  55.0  13.268293        1723   203.0   \n",
       "A.C. Green  82.0  0.751   90.0  1061.0  50.0  12.939024        1723   203.0   \n",
       "\n",
       "            weight collage    born birth_city birth_state  \n",
       "Player                                                     \n",
       "A.C. Green   106.0     NaN  1960.0        NaN         NaN  \n",
       "A.C. Green   106.0     NaN  1960.0        NaN         NaN  \n",
       "A.C. Green   106.0     NaN  1960.0        NaN         NaN  \n",
       "A.C. Green   106.0     NaN  1960.0        NaN         NaN  \n",
       "A.C. Green   106.0     NaN  1960.0        NaN         NaN  "
      ]
     },
     "execution_count": 22,
     "metadata": {},
     "output_type": "execute_result"
    }
   ],
   "source": [
    "df.head()"
   ]
  },
  {
   "cell_type": "code",
   "execution_count": null,
   "metadata": {
    "collapsed": true
   },
   "outputs": [],
   "source": []
  },
  {
   "cell_type": "code",
   "execution_count": 23,
   "metadata": {
    "collapsed": true
   },
   "outputs": [],
   "source": [
    "media = df.loc[(df.G!=0), 'm_ponto'] = df.PTS/df.G\n",
    "tabela_nova = df.loc[:,[\"PTS\",\"m_ponto\",\"height\"]]\n"
   ]
  },
  {
   "cell_type": "code",
   "execution_count": 24,
   "metadata": {
    "collapsed": true
   },
   "outputs": [],
   "source": [
    "tabela_nova = tabela_nova.loc[pd.notnull(tabela_nova.m_ponto),:]\n",
    "tabela_nova = tabela_nova.loc[pd.notnull(tabela_nova.height),:]"
   ]
  },
  {
   "cell_type": "code",
   "execution_count": null,
   "metadata": {
    "collapsed": true
   },
   "outputs": [],
   "source": []
  },
  {
   "cell_type": "code",
   "execution_count": 25,
   "metadata": {},
   "outputs": [
    {
     "data": {
      "text/html": [
       "<table class=\"simpletable\">\n",
       "<caption>OLS Regression Results</caption>\n",
       "<tr>\n",
       "  <th>Dep. Variable:</th>         <td>m_ponto</td>     <th>  R-squared:         </th> <td>   0.000</td> \n",
       "</tr>\n",
       "<tr>\n",
       "  <th>Model:</th>                   <td>OLS</td>       <th>  Adj. R-squared:    </th> <td>  -0.000</td> \n",
       "</tr>\n",
       "<tr>\n",
       "  <th>Method:</th>             <td>Least Squares</td>  <th>  F-statistic:       </th> <td> 0.07597</td> \n",
       "</tr>\n",
       "<tr>\n",
       "  <th>Date:</th>             <td>Thu, 09 Nov 2017</td> <th>  Prob (F-statistic):</th>  <td> 0.783</td>  \n",
       "</tr>\n",
       "<tr>\n",
       "  <th>Time:</th>                 <td>14:41:54</td>     <th>  Log-Likelihood:    </th> <td> -15820.</td> \n",
       "</tr>\n",
       "<tr>\n",
       "  <th>No. Observations:</th>      <td>  4966</td>      <th>  AIC:               </th> <td>3.164e+04</td>\n",
       "</tr>\n",
       "<tr>\n",
       "  <th>Df Residuals:</th>          <td>  4964</td>      <th>  BIC:               </th> <td>3.166e+04</td>\n",
       "</tr>\n",
       "<tr>\n",
       "  <th>Df Model:</th>              <td>     1</td>      <th>                     </th>     <td> </td>    \n",
       "</tr>\n",
       "<tr>\n",
       "  <th>Covariance Type:</th>      <td>nonrobust</td>    <th>                     </th>     <td> </td>    \n",
       "</tr>\n",
       "</table>\n",
       "<table class=\"simpletable\">\n",
       "<tr>\n",
       "     <td></td>       <th>coef</th>     <th>std err</th>      <th>t</th>      <th>P>|t|</th> <th>[95.0% Conf. Int.]</th> \n",
       "</tr>\n",
       "<tr>\n",
       "  <th>const</th>  <td>    9.0399</td> <td>    3.433</td> <td>    2.633</td> <td> 0.008</td> <td>    2.310    15.770</td>\n",
       "</tr>\n",
       "<tr>\n",
       "  <th>height</th> <td>   -0.0046</td> <td>    0.017</td> <td>   -0.276</td> <td> 0.783</td> <td>   -0.038     0.028</td>\n",
       "</tr>\n",
       "</table>\n",
       "<table class=\"simpletable\">\n",
       "<tr>\n",
       "  <th>Omnibus:</th>       <td>572.347</td> <th>  Durbin-Watson:     </th> <td>   0.537</td> \n",
       "</tr>\n",
       "<tr>\n",
       "  <th>Prob(Omnibus):</th> <td> 0.000</td>  <th>  Jarque-Bera (JB):  </th> <td> 785.829</td> \n",
       "</tr>\n",
       "<tr>\n",
       "  <th>Skew:</th>          <td> 0.958</td>  <th>  Prob(JB):          </th> <td>2.29e-171</td>\n",
       "</tr>\n",
       "<tr>\n",
       "  <th>Kurtosis:</th>      <td> 3.361</td>  <th>  Cond. No.          </th> <td>8.46e+03</td> \n",
       "</tr>\n",
       "</table>"
      ],
      "text/plain": [
       "<class 'statsmodels.iolib.summary.Summary'>\n",
       "\"\"\"\n",
       "                            OLS Regression Results                            \n",
       "==============================================================================\n",
       "Dep. Variable:                m_ponto   R-squared:                       0.000\n",
       "Model:                            OLS   Adj. R-squared:                 -0.000\n",
       "Method:                 Least Squares   F-statistic:                   0.07597\n",
       "Date:                Thu, 09 Nov 2017   Prob (F-statistic):              0.783\n",
       "Time:                        14:41:54   Log-Likelihood:                -15820.\n",
       "No. Observations:                4966   AIC:                         3.164e+04\n",
       "Df Residuals:                    4964   BIC:                         3.166e+04\n",
       "Df Model:                           1                                         \n",
       "Covariance Type:            nonrobust                                         \n",
       "==============================================================================\n",
       "                 coef    std err          t      P>|t|      [95.0% Conf. Int.]\n",
       "------------------------------------------------------------------------------\n",
       "const          9.0399      3.433      2.633      0.008         2.310    15.770\n",
       "height        -0.0046      0.017     -0.276      0.783        -0.038     0.028\n",
       "==============================================================================\n",
       "Omnibus:                      572.347   Durbin-Watson:                   0.537\n",
       "Prob(Omnibus):                  0.000   Jarque-Bera (JB):              785.829\n",
       "Skew:                           0.958   Prob(JB):                    2.29e-171\n",
       "Kurtosis:                       3.361   Cond. No.                     8.46e+03\n",
       "==============================================================================\n",
       "\n",
       "Warnings:\n",
       "[1] Standard Errors assume that the covariance matrix of the errors is correctly specified.\n",
       "[2] The condition number is large, 8.46e+03. This might indicate that there are\n",
       "strong multicollinearity or other numerical problems.\n",
       "\"\"\""
      ]
     },
     "execution_count": 25,
     "metadata": {},
     "output_type": "execute_result"
    }
   ],
   "source": [
    "import numpy as np\n",
    "import statsmodels.api as sm\n",
    "\n",
    "Y = tabela_nova[\"m_ponto\"]\n",
    "X = tabela_nova[\"height\"]\n",
    "X = sm.add_constant(X)\n",
    "model = sm.OLS(Y,X)\n",
    "results = model.fit()\n",
    "results.summary()"
   ]
  },
  {
   "cell_type": "markdown",
   "metadata": {},
   "source": [
    "### Percebemos que não há relevância entre altura e a quantidade de pontos feita."
   ]
  },
  {
   "cell_type": "code",
   "execution_count": null,
   "metadata": {},
   "outputs": [],
   "source": []
  },
  {
   "cell_type": "markdown",
   "metadata": {},
   "source": [
    "### Como não houve uma considerável relação entre a altura e a quantidade de pontos, vamos analisar se existe alguma relação entre altura e quantidade de bloqueios."
   ]
  },
  {
   "cell_type": "code",
   "execution_count": 43,
   "metadata": {
    "collapsed": true
   },
   "outputs": [],
   "source": [
    "tabela_BLK = df.loc[pd.notnull(df.BLK),:]"
   ]
  },
  {
   "cell_type": "code",
   "execution_count": 44,
   "metadata": {},
   "outputs": [
    {
     "data": {
      "text/html": [
       "<table class=\"simpletable\">\n",
       "<caption>OLS Regression Results</caption>\n",
       "<tr>\n",
       "  <th>Dep. Variable:</th>           <td>BLK</td>       <th>  R-squared:         </th> <td>   0.019</td> \n",
       "</tr>\n",
       "<tr>\n",
       "  <th>Model:</th>                   <td>OLS</td>       <th>  Adj. R-squared:    </th> <td>   0.019</td> \n",
       "</tr>\n",
       "<tr>\n",
       "  <th>Method:</th>             <td>Least Squares</td>  <th>  F-statistic:       </th> <td>   82.89</td> \n",
       "</tr>\n",
       "<tr>\n",
       "  <th>Date:</th>             <td>Thu, 09 Nov 2017</td> <th>  Prob (F-statistic):</th> <td>1.30e-19</td> \n",
       "</tr>\n",
       "<tr>\n",
       "  <th>Time:</th>                 <td>14:49:08</td>     <th>  Log-Likelihood:    </th> <td> -21499.</td> \n",
       "</tr>\n",
       "<tr>\n",
       "  <th>No. Observations:</th>      <td>  4294</td>      <th>  AIC:               </th> <td>4.300e+04</td>\n",
       "</tr>\n",
       "<tr>\n",
       "  <th>Df Residuals:</th>          <td>  4292</td>      <th>  BIC:               </th> <td>4.301e+04</td>\n",
       "</tr>\n",
       "<tr>\n",
       "  <th>Df Model:</th>              <td>     1</td>      <th>                     </th>     <td> </td>    \n",
       "</tr>\n",
       "<tr>\n",
       "  <th>Covariance Type:</th>      <td>nonrobust</td>    <th>                     </th>     <td> </td>    \n",
       "</tr>\n",
       "</table>\n",
       "<table class=\"simpletable\">\n",
       "<tr>\n",
       "     <td></td>       <th>coef</th>     <th>std err</th>      <th>t</th>      <th>P>|t|</th> <th>[95.0% Conf. Int.]</th> \n",
       "</tr>\n",
       "<tr>\n",
       "  <th>const</th>  <td> -178.0883</td> <td>   23.016</td> <td>   -7.737</td> <td> 0.000</td> <td> -223.212  -132.964</td>\n",
       "</tr>\n",
       "<tr>\n",
       "  <th>height</th> <td>    1.0210</td> <td>    0.112</td> <td>    9.104</td> <td> 0.000</td> <td>    0.801     1.241</td>\n",
       "</tr>\n",
       "</table>\n",
       "<table class=\"simpletable\">\n",
       "<tr>\n",
       "  <th>Omnibus:</th>       <td>1795.983</td> <th>  Durbin-Watson:     </th> <td>   0.720</td>\n",
       "</tr>\n",
       "<tr>\n",
       "  <th>Prob(Omnibus):</th>  <td> 0.000</td>  <th>  Jarque-Bera (JB):  </th> <td>7877.161</td>\n",
       "</tr>\n",
       "<tr>\n",
       "  <th>Skew:</th>           <td> 2.040</td>  <th>  Prob(JB):          </th> <td>    0.00</td>\n",
       "</tr>\n",
       "<tr>\n",
       "  <th>Kurtosis:</th>       <td> 8.233</td>  <th>  Cond. No.          </th> <td>8.56e+03</td>\n",
       "</tr>\n",
       "</table>"
      ],
      "text/plain": [
       "<class 'statsmodels.iolib.summary.Summary'>\n",
       "\"\"\"\n",
       "                            OLS Regression Results                            \n",
       "==============================================================================\n",
       "Dep. Variable:                    BLK   R-squared:                       0.019\n",
       "Model:                            OLS   Adj. R-squared:                  0.019\n",
       "Method:                 Least Squares   F-statistic:                     82.89\n",
       "Date:                Thu, 09 Nov 2017   Prob (F-statistic):           1.30e-19\n",
       "Time:                        14:49:08   Log-Likelihood:                -21499.\n",
       "No. Observations:                4294   AIC:                         4.300e+04\n",
       "Df Residuals:                    4292   BIC:                         4.301e+04\n",
       "Df Model:                           1                                         \n",
       "Covariance Type:            nonrobust                                         \n",
       "==============================================================================\n",
       "                 coef    std err          t      P>|t|      [95.0% Conf. Int.]\n",
       "------------------------------------------------------------------------------\n",
       "const       -178.0883     23.016     -7.737      0.000      -223.212  -132.964\n",
       "height         1.0210      0.112      9.104      0.000         0.801     1.241\n",
       "==============================================================================\n",
       "Omnibus:                     1795.983   Durbin-Watson:                   0.720\n",
       "Prob(Omnibus):                  0.000   Jarque-Bera (JB):             7877.161\n",
       "Skew:                           2.040   Prob(JB):                         0.00\n",
       "Kurtosis:                       8.233   Cond. No.                     8.56e+03\n",
       "==============================================================================\n",
       "\n",
       "Warnings:\n",
       "[1] Standard Errors assume that the covariance matrix of the errors is correctly specified.\n",
       "[2] The condition number is large, 8.56e+03. This might indicate that there are\n",
       "strong multicollinearity or other numerical problems.\n",
       "\"\"\""
      ]
     },
     "execution_count": 44,
     "metadata": {},
     "output_type": "execute_result"
    }
   ],
   "source": [
    "import numpy as np\n",
    "import statsmodels.api as sm\n",
    "\n",
    "Y = tabela_BLK[\"BLK\"]\n",
    "X = tabela_BLK[\"height\"]\n",
    "X = sm.add_constant(X)\n",
    "model = sm.OLS(Y,X)\n",
    "results = model.fit()\n",
    "results.summary()"
   ]
  },
  {
   "cell_type": "code",
   "execution_count": 58,
   "metadata": {},
   "outputs": [],
   "source": [
    "#fazer plot dispersao, pontuacao e atura"
   ]
  },
  {
   "cell_type": "code",
   "execution_count": null,
   "metadata": {},
   "outputs": [],
   "source": []
  },
  {
   "cell_type": "code",
   "execution_count": 55,
   "metadata": {},
   "outputs": [
    {
     "data": {
      "image/png": "[encoded data removed]",
      "text/plain": [
       "<matplotlib.figure.Figure at 0x21e07bd34a8>"
      ]
     },
     "metadata": {},
     "output_type": "display_data"
    }
   ],
   "source": [
    "hmax = df.height.max()\n",
    "hmin = df.height.min()\n",
    "\n",
    "plt.scatter(tabela_BLK.BLK, tabela_BLK.height, c='red', alpha=0.8)\n",
    "\n",
    "\n",
    "y=ax\n",
    "\n",
    "plt.show()"
   ]
  },
  {
   "cell_type": "code",
   "execution_count": 62,
   "metadata": {},
   "outputs": [
    {
     "data": {
      "text/html": [
       "<div>\n",
       "<table border=\"1\" class=\"dataframe\">\n",
       "  <thead>\n",
       "    <tr style=\"text-align: right;\">\n",
       "      <th></th>\n",
       "      <th>G</th>\n",
       "      <th>FT%</th>\n",
       "      <th>AST</th>\n",
       "      <th>PTS</th>\n",
       "      <th>BLK</th>\n",
       "      <th>M_PONTOS</th>\n",
       "      <th>Unnamed: 0</th>\n",
       "      <th>height</th>\n",
       "      <th>weight</th>\n",
       "      <th>born</th>\n",
       "    </tr>\n",
       "  </thead>\n",
       "  <tbody>\n",
       "    <tr>\n",
       "      <th>count</th>\n",
       "      <td>4294.000000</td>\n",
       "      <td>4129.000000</td>\n",
       "      <td>4294.000000</td>\n",
       "      <td>4294.000000</td>\n",
       "      <td>4294.000000</td>\n",
       "      <td>4294.000000</td>\n",
       "      <td>4294.000000</td>\n",
       "      <td>4294.000000</td>\n",
       "      <td>4294.000000</td>\n",
       "      <td>4294.000000</td>\n",
       "    </tr>\n",
       "    <tr>\n",
       "      <th>mean</th>\n",
       "      <td>50.107592</td>\n",
       "      <td>0.689141</td>\n",
       "      <td>69.583838</td>\n",
       "      <td>479.701910</td>\n",
       "      <td>31.401956</td>\n",
       "      <td>7.854124</td>\n",
       "      <td>2267.655799</td>\n",
       "      <td>205.172566</td>\n",
       "      <td>103.108058</td>\n",
       "      <td>1968.931765</td>\n",
       "    </tr>\n",
       "    <tr>\n",
       "      <th>std</th>\n",
       "      <td>26.698523</td>\n",
       "      <td>0.142893</td>\n",
       "      <td>77.161710</td>\n",
       "      <td>469.964744</td>\n",
       "      <td>36.505351</td>\n",
       "      <td>5.815099</td>\n",
       "      <td>796.099244</td>\n",
       "      <td>4.921303</td>\n",
       "      <td>8.239823</td>\n",
       "      <td>13.318257</td>\n",
       "    </tr>\n",
       "    <tr>\n",
       "      <th>min</th>\n",
       "      <td>1.000000</td>\n",
       "      <td>0.000000</td>\n",
       "      <td>0.000000</td>\n",
       "      <td>0.000000</td>\n",
       "      <td>0.000000</td>\n",
       "      <td>0.000000</td>\n",
       "      <td>451.000000</td>\n",
       "      <td>185.000000</td>\n",
       "      <td>77.000000</td>\n",
       "      <td>1920.000000</td>\n",
       "    </tr>\n",
       "    <tr>\n",
       "      <th>25%</th>\n",
       "      <td>26.000000</td>\n",
       "      <td>0.627000</td>\n",
       "      <td>12.000000</td>\n",
       "      <td>97.000000</td>\n",
       "      <td>6.000000</td>\n",
       "      <td>3.282967</td>\n",
       "      <td>1650.000000</td>\n",
       "      <td>203.000000</td>\n",
       "      <td>99.000000</td>\n",
       "      <td>1960.000000</td>\n",
       "    </tr>\n",
       "    <tr>\n",
       "      <th>50%</th>\n",
       "      <td>55.000000</td>\n",
       "      <td>0.711000</td>\n",
       "      <td>45.000000</td>\n",
       "      <td>333.000000</td>\n",
       "      <td>19.000000</td>\n",
       "      <td>6.283784</td>\n",
       "      <td>2249.000000</td>\n",
       "      <td>206.000000</td>\n",
       "      <td>104.000000</td>\n",
       "      <td>1969.000000</td>\n",
       "    </tr>\n",
       "    <tr>\n",
       "      <th>75%</th>\n",
       "      <td>76.000000</td>\n",
       "      <td>0.776000</td>\n",
       "      <td>99.000000</td>\n",
       "      <td>746.750000</td>\n",
       "      <td>43.000000</td>\n",
       "      <td>11.225921</td>\n",
       "      <td>2921.000000</td>\n",
       "      <td>208.000000</td>\n",
       "      <td>108.000000</td>\n",
       "      <td>1980.000000</td>\n",
       "    </tr>\n",
       "    <tr>\n",
       "      <th>max</th>\n",
       "      <td>86.000000</td>\n",
       "      <td>1.000000</td>\n",
       "      <td>598.000000</td>\n",
       "      <td>2540.000000</td>\n",
       "      <td>243.000000</td>\n",
       "      <td>30.975610</td>\n",
       "      <td>3918.000000</td>\n",
       "      <td>229.000000</td>\n",
       "      <td>136.000000</td>\n",
       "      <td>1997.000000</td>\n",
       "    </tr>\n",
       "  </tbody>\n",
       "</table>\n",
       "</div>"
      ],
      "text/plain": [
       "                 G          FT%          AST          PTS          BLK  \\\n",
       "count  4294.000000  4129.000000  4294.000000  4294.000000  4294.000000   \n",
       "mean     50.107592     0.689141    69.583838   479.701910    31.401956   \n",
       "std      26.698523     0.142893    77.161710   469.964744    36.505351   \n",
       "min       1.000000     0.000000     0.000000     0.000000     0.000000   \n",
       "25%      26.000000     0.627000    12.000000    97.000000     6.000000   \n",
       "50%      55.000000     0.711000    45.000000   333.000000    19.000000   \n",
       "75%      76.000000     0.776000    99.000000   746.750000    43.000000   \n",
       "max      86.000000     1.000000   598.000000  2540.000000   243.000000   \n",
       "\n",
       "          M_PONTOS   Unnamed: 0       height       weight         born  \n",
       "count  4294.000000  4294.000000  4294.000000  4294.000000  4294.000000  \n",
       "mean      7.854124  2267.655799   205.172566   103.108058  1968.931765  \n",
       "std       5.815099   796.099244     4.921303     8.239823    13.318257  \n",
       "min       0.000000   451.000000   185.000000    77.000000  1920.000000  \n",
       "25%       3.282967  1650.000000   203.000000    99.000000  1960.000000  \n",
       "50%       6.283784  2249.000000   206.000000   104.000000  1969.000000  \n",
       "75%      11.225921  2921.000000   208.000000   108.000000  1980.000000  \n",
       "max      30.975610  3918.000000   229.000000   136.000000  1997.000000  "
      ]
     },
     "execution_count": 62,
     "metadata": {},
     "output_type": "execute_result"
    }
   ],
   "source": [
    "tabela_BLK.describe()"
   ]
  },
  {
   "cell_type": "code",
   "execution_count": 61,
   "metadata": {},
   "outputs": [
    {
     "data": {
      "text/plain": [
       "Index(['G', 'FT%', 'AST', 'PTS', 'BLK', 'M_PONTOS', 'Unnamed: 0', 'height',\n",
       "       'weight', 'collage', 'born', 'birth_city', 'birth_state'],\n",
       "      dtype='object')"
      ]
     },
     "execution_count": 61,
     "metadata": {},
     "output_type": "execute_result"
    }
   ],
   "source": [
    "tabela_BLK.columns"
   ]
  },
  {
   "cell_type": "code",
   "execution_count": 71,
   "metadata": {
    "collapsed": true
   },
   "outputs": [],
   "source": [
    "colunas = ['G', 'FT%', 'AST', 'PTS', 'BLK', 'M_PONTOS', 'Unnamed: 0', 'height',\n",
    "       'weight']"
   ]
  },
  {
   "cell_type": "code",
   "execution_count": 78,
   "metadata": {
    "collapsed": true
   },
   "outputs": [],
   "source": [
    "colunas = [ 'BLK',  'height']"
   ]
  },
  {
   "cell_type": "code",
   "execution_count": null,
   "metadata": {
    "collapsed": true
   },
   "outputs": [],
   "source": []
  },
  {
   "cell_type": "code",
   "execution_count": 79,
   "metadata": {},
   "outputs": [
    {
     "data": {
      "text/html": [
       "<table class=\"simpletable\">\n",
       "<caption>OLS Regression Results</caption>\n",
       "<tr>\n",
       "  <th>Dep. Variable:</th>           <td>PTS</td>       <th>  R-squared:         </th> <td>   0.461</td> \n",
       "</tr>\n",
       "<tr>\n",
       "  <th>Model:</th>                   <td>OLS</td>       <th>  Adj. R-squared:    </th> <td>   0.460</td> \n",
       "</tr>\n",
       "<tr>\n",
       "  <th>Method:</th>             <td>Least Squares</td>  <th>  F-statistic:       </th> <td>   1833.</td> \n",
       "</tr>\n",
       "<tr>\n",
       "  <th>Date:</th>             <td>Thu, 09 Nov 2017</td> <th>  Prob (F-statistic):</th>  <td>  0.00</td>  \n",
       "</tr>\n",
       "<tr>\n",
       "  <th>Time:</th>                 <td>15:23:59</td>     <th>  Log-Likelihood:    </th> <td> -31186.</td> \n",
       "</tr>\n",
       "<tr>\n",
       "  <th>No. Observations:</th>      <td>  4294</td>      <th>  AIC:               </th> <td>6.238e+04</td>\n",
       "</tr>\n",
       "<tr>\n",
       "  <th>Df Residuals:</th>          <td>  4291</td>      <th>  BIC:               </th> <td>6.240e+04</td>\n",
       "</tr>\n",
       "<tr>\n",
       "  <th>Df Model:</th>              <td>     2</td>      <th>                     </th>     <td> </td>    \n",
       "</tr>\n",
       "<tr>\n",
       "  <th>Covariance Type:</th>      <td>nonrobust</td>    <th>                     </th>     <td> </td>    \n",
       "</tr>\n",
       "</table>\n",
       "<table class=\"simpletable\">\n",
       "<tr>\n",
       "     <td></td>       <th>coef</th>     <th>std err</th>      <th>t</th>      <th>P>|t|</th> <th>[95.0% Conf. Int.]</th> \n",
       "</tr>\n",
       "<tr>\n",
       "  <th>const</th>  <td> 1706.5765</td> <td>  221.239</td> <td>    7.714</td> <td> 0.000</td> <td> 1272.834  2140.319</td>\n",
       "</tr>\n",
       "<tr>\n",
       "  <th>BLK</th>    <td>    8.8194</td> <td>    0.146</td> <td>   60.528</td> <td> 0.000</td> <td>    8.534     9.105</td>\n",
       "</tr>\n",
       "<tr>\n",
       "  <th>height</th> <td>   -7.3295</td> <td>    1.081</td> <td>   -6.781</td> <td> 0.000</td> <td>   -9.449    -5.211</td>\n",
       "</tr>\n",
       "</table>\n",
       "<table class=\"simpletable\">\n",
       "<tr>\n",
       "  <th>Omnibus:</th>       <td>1106.445</td> <th>  Durbin-Watson:     </th> <td>   0.669</td>\n",
       "</tr>\n",
       "<tr>\n",
       "  <th>Prob(Omnibus):</th>  <td> 0.000</td>  <th>  Jarque-Bera (JB):  </th> <td>3386.297</td>\n",
       "</tr>\n",
       "<tr>\n",
       "  <th>Skew:</th>           <td> 1.315</td>  <th>  Prob(JB):          </th> <td>    0.00</td>\n",
       "</tr>\n",
       "<tr>\n",
       "  <th>Kurtosis:</th>       <td> 6.465</td>  <th>  Cond. No.          </th> <td>8.72e+03</td>\n",
       "</tr>\n",
       "</table>"
      ],
      "text/plain": [
       "<class 'statsmodels.iolib.summary.Summary'>\n",
       "\"\"\"\n",
       "                            OLS Regression Results                            \n",
       "==============================================================================\n",
       "Dep. Variable:                    PTS   R-squared:                       0.461\n",
       "Model:                            OLS   Adj. R-squared:                  0.460\n",
       "Method:                 Least Squares   F-statistic:                     1833.\n",
       "Date:                Thu, 09 Nov 2017   Prob (F-statistic):               0.00\n",
       "Time:                        15:23:59   Log-Likelihood:                -31186.\n",
       "No. Observations:                4294   AIC:                         6.238e+04\n",
       "Df Residuals:                    4291   BIC:                         6.240e+04\n",
       "Df Model:                           2                                         \n",
       "Covariance Type:            nonrobust                                         \n",
       "==============================================================================\n",
       "                 coef    std err          t      P>|t|      [95.0% Conf. Int.]\n",
       "------------------------------------------------------------------------------\n",
       "const       1706.5765    221.239      7.714      0.000      1272.834  2140.319\n",
       "BLK            8.8194      0.146     60.528      0.000         8.534     9.105\n",
       "height        -7.3295      1.081     -6.781      0.000        -9.449    -5.211\n",
       "==============================================================================\n",
       "Omnibus:                     1106.445   Durbin-Watson:                   0.669\n",
       "Prob(Omnibus):                  0.000   Jarque-Bera (JB):             3386.297\n",
       "Skew:                           1.315   Prob(JB):                         0.00\n",
       "Kurtosis:                       6.465   Cond. No.                     8.72e+03\n",
       "==============================================================================\n",
       "\n",
       "Warnings:\n",
       "[1] Standard Errors assume that the covariance matrix of the errors is correctly specified.\n",
       "[2] The condition number is large, 8.72e+03. This might indicate that there are\n",
       "strong multicollinearity or other numerical problems.\n",
       "\"\"\""
      ]
     },
     "execution_count": 79,
     "metadata": {},
     "output_type": "execute_result"
    }
   ],
   "source": [
    "\n",
    "\n",
    "Y = tabela_BLK[\"PTS\"]\n",
    "X = tabela_BLK.loc[:, colunas]\n",
    "X = sm.add_constant(X)\n",
    "model = sm.OLS(Y,X)\n",
    "results = model.fit()\n",
    "results.summary()"
   ]
  },
  {
   "cell_type": "code",
   "execution_count": 82,
   "metadata": {
    "collapsed": true
   },
   "outputs": [],
   "source": [
    "import itertools\n",
    "import pylab\n",
    "from mpl_toolkits.mplot3d import Axes3D"
   ]
  },
  {
   "cell_type": "code",
   "execution_count": 83,
   "metadata": {},
   "outputs": [],
   "source": [
    "p = itertools.permutations(colunas)"
   ]
  },
  {
   "cell_type": "code",
   "execution_count": 87,
   "metadata": {},
   "outputs": [
    {
     "data": {
      "image/png": "[encoded data removed]",
      "text/plain": [
       "<matplotlib.figure.Figure at 0x21e09b7c390>"
      ]
     },
     "metadata": {},
     "output_type": "display_data"
    }
   ],
   "source": [
    "fig = pylab.figure()\n",
    "ax = Axes3D(fig)\n",
    "ax.scatter(df.BLK,df.PTS,df.height)\n",
    "ax.set_xlabel(\"BLK\")\n",
    "ax.set_ylabel(\"PTS\")\n",
    "ax.set_zlabel(\"height\")\n",
    "\n",
    "plt.show()"
   ]
  },
  {
   "cell_type": "code",
   "execution_count": null,
   "metadata": {
    "collapsed": true
   },
   "outputs": [],
   "source": []
  }
 ],
 "metadata": {
  "kernelspec": {
   "display_name": "Python 3",
   "language": "python",
   "name": "python3"
  },
  "language_info": {
   "codemirror_mode": {
    "name": "ipython",
    "version": 3
   },
   "file_extension": ".py",
   "mimetype": "text/x-python",
   "name": "python",
   "nbconvert_exporter": "python",
   "pygments_lexer": "ipython3",
   "version": "3.6.0"
  }
 },
 "nbformat": 4,
 "nbformat_minor": 2
}
